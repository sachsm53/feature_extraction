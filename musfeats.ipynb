{
 "cells": [
  {
   "cell_type": "code",
   "execution_count": 4,
   "id": "analyzed-challenge",
   "metadata": {},
   "outputs": [
    {
     "name": "stdout",
     "output_type": "stream",
     "text": [
      "['A2_1.mp3', 'B2_2.mp3', 'B1_3.mp3', 'B2_3.mp3', 'A1_1.mp3', 'B1_2.mp3', 'A1_2.mp3', 'B1_1.mp3', 'A2_3.mp3', 'A1_3.mp3', 'A2_2.mp3', 'B2_1.mp3']\n"
     ]
    }
   ],
   "source": [
    "import scipy\n",
    "import glob\n",
    "import os\n",
    "import librosa as lb\n",
    "import matplotlib.pyplot as plt\n",
    "import numpy as np\n",
    "import math\n",
    "import deepdish as dd\n",
    "from scipy.stats import norm, zscore, pearsonr\n",
    "import sys\n",
    "\n",
    "\n",
    "def sliding_avg(data, rawData,sr):\n",
    "    if len(data.shape) > 1:\n",
    "        w = np.round(data.shape[1]/(len(rawData)/sr))\n",
    "        output = np.zeros((data.shape[0], int(np.round((data.shape[1]/w)))))\n",
    "        forward_idx = np.arange(0,data.shape[1] + 1, w)\n",
    "        \n",
    "    for i in range(len(forward_idx)):\n",
    "        if data[:,int(forward_idx[i]):int(forward_idx[i])+int(w)].shape[1] != w:\n",
    "            continue\n",
    "        else:\n",
    "            output[:,i] = np.mean(data[:,int(forward_idx[i]):int(forward_idx[i]) + int(w)],axis=1).T\n",
    "    return output\n",
    "\n",
    "path = '/home/msachs/music_emo_events/'\n",
    "filepath = path + 'full_sequences_trimmed/'\n",
    "dir_names =  [elem for elem in os.listdir(filepath) if '.mp3' in elem]\n",
    "print(dir_names)\n",
    "\n",
    "fname = path + '/emo_sums_36ss_03-18'\n",
    "emo_sums = dd.io.load(fname)\n",
    "studies = list(emo_sums.keys())\n",
    "emos = ['calm','happy','sad','anxious','nostalgic']"
   ]
  },
  {
   "cell_type": "code",
   "execution_count": 3,
   "id": "attempted-planner",
   "metadata": {},
   "outputs": [],
   "source": [
    "def crosscor(v1,v2,cc_win,ignore_TRs):\n",
    "    #v2 = v2[ignore_TRs:]\n",
    "    cc = np.zeros(2 * cc_win + 1)\n",
    "    for i in range(2 * cc_win + 1):\n",
    "        if i == 2 * cc_win:\n",
    "            v2_shift = v2[i:]\n",
    "        else:\n",
    "            v2_shift = v2[i:(-2 * cc_win + i)]\n",
    "        cc[i] = pearsonr(v2_shift, v1[:(-2 * cc_win)])[0]\n",
    "    #lag = np.arange(-1 * cc_win, cc_win + 1)[np.where(cc == max(cc))[0]][0]\n",
    "    lag = np.where(cc == max(cc))[0]\n",
    "    return lag,cc[np.argmax(cc)],cc"
   ]
  },
  {
   "cell_type": "markdown",
   "id": "pleasant-sigma",
   "metadata": {},
   "source": [
    "## Code from Williams - MFCC, CHROMA, Tempogram"
   ]
  },
  {
   "cell_type": "code",
   "execution_count": null,
   "id": "victorian-routine",
   "metadata": {},
   "outputs": [
    {
     "name": "stdout",
     "output_type": "stream",
     "text": [
      "A1_2.mp3 A1_2 loading...\n"
     ]
    },
    {
     "name": "stderr",
     "output_type": "stream",
     "text": [
      "/home/msachs/.conda/envs/venv/lib/python3.6/site-packages/librosa/core/audio.py:161: UserWarning: PySoundFile failed. Trying audioread instead.\n",
      "  warnings.warn('PySoundFile failed. Trying audioread instead.')\n"
     ]
    },
    {
     "name": "stdout",
     "output_type": "stream",
     "text": [
      "256.4440816326531 44100\n"
     ]
    },
    {
     "name": "stderr",
     "output_type": "stream",
     "text": [
      "/home/msachs/.conda/envs/venv/lib/python3.6/site-packages/scipy/sparse/lil.py:512: FutureWarning: future versions will not create a writeable array from broadcast_array. Set the writable flag explicitly to avoid this warning.\n",
      "  if not i.flags.writeable or i.dtype not in (np.int32, np.int64):\n",
      "/home/msachs/.conda/envs/venv/lib/python3.6/site-packages/scipy/sparse/lil.py:514: FutureWarning: future versions will not create a writeable array from broadcast_array. Set the writable flag explicitly to avoid this warning.\n",
      "  if not j.flags.writeable or j.dtype not in (np.int32, np.int64):\n",
      "/home/msachs/.conda/envs/venv/lib/python3.6/site-packages/scipy/sparse/lil.py:512: FutureWarning: future versions will not create a writeable array from broadcast_array. Set the writable flag explicitly to avoid this warning.\n",
      "  if not i.flags.writeable or i.dtype not in (np.int32, np.int64):\n",
      "/home/msachs/.conda/envs/venv/lib/python3.6/site-packages/scipy/sparse/lil.py:518: FutureWarning: future versions will not create a writeable array from broadcast_array. Set the writable flag explicitly to avoid this warning.\n",
      "  if not x.flags.writeable:\n"
     ]
    },
    {
     "name": "stdout",
     "output_type": "stream",
     "text": [
      "A1_2.mp3 A1_2 compressing...\n",
      "(383, 257) (12, 257) (20, 257)\n",
      "A1_3.mp3 A1_3 loading...\n"
     ]
    },
    {
     "name": "stderr",
     "output_type": "stream",
     "text": [
      "/home/msachs/.conda/envs/venv/lib/python3.6/site-packages/librosa/core/audio.py:161: UserWarning: PySoundFile failed. Trying audioread instead.\n",
      "  warnings.warn('PySoundFile failed. Trying audioread instead.')\n"
     ]
    },
    {
     "name": "stdout",
     "output_type": "stream",
     "text": [
      "315.68979591836734 44100\n"
     ]
    },
    {
     "name": "stderr",
     "output_type": "stream",
     "text": [
      "/home/msachs/.conda/envs/venv/lib/python3.6/site-packages/scipy/sparse/lil.py:512: FutureWarning: future versions will not create a writeable array from broadcast_array. Set the writable flag explicitly to avoid this warning.\n",
      "  if not i.flags.writeable or i.dtype not in (np.int32, np.int64):\n",
      "/home/msachs/.conda/envs/venv/lib/python3.6/site-packages/scipy/sparse/lil.py:514: FutureWarning: future versions will not create a writeable array from broadcast_array. Set the writable flag explicitly to avoid this warning.\n",
      "  if not j.flags.writeable or j.dtype not in (np.int32, np.int64):\n",
      "/home/msachs/.conda/envs/venv/lib/python3.6/site-packages/scipy/sparse/lil.py:512: FutureWarning: future versions will not create a writeable array from broadcast_array. Set the writable flag explicitly to avoid this warning.\n",
      "  if not i.flags.writeable or i.dtype not in (np.int32, np.int64):\n",
      "/home/msachs/.conda/envs/venv/lib/python3.6/site-packages/scipy/sparse/lil.py:518: FutureWarning: future versions will not create a writeable array from broadcast_array. Set the writable flag explicitly to avoid this warning.\n",
      "  if not x.flags.writeable:\n"
     ]
    },
    {
     "name": "stdout",
     "output_type": "stream",
     "text": [
      "A1_3.mp3 A1_3 compressing...\n",
      "(383, 316) (12, 316) (20, 316)\n",
      "A2_1.mp3 A2_1 loading...\n"
     ]
    },
    {
     "name": "stderr",
     "output_type": "stream",
     "text": [
      "/home/msachs/.conda/envs/venv/lib/python3.6/site-packages/librosa/core/audio.py:161: UserWarning: PySoundFile failed. Trying audioread instead.\n",
      "  warnings.warn('PySoundFile failed. Trying audioread instead.')\n"
     ]
    },
    {
     "name": "stdout",
     "output_type": "stream",
     "text": [
      "323.3175510204082 44100\n"
     ]
    },
    {
     "name": "stderr",
     "output_type": "stream",
     "text": [
      "/home/msachs/.conda/envs/venv/lib/python3.6/site-packages/scipy/sparse/lil.py:512: FutureWarning: future versions will not create a writeable array from broadcast_array. Set the writable flag explicitly to avoid this warning.\n",
      "  if not i.flags.writeable or i.dtype not in (np.int32, np.int64):\n",
      "/home/msachs/.conda/envs/venv/lib/python3.6/site-packages/scipy/sparse/lil.py:514: FutureWarning: future versions will not create a writeable array from broadcast_array. Set the writable flag explicitly to avoid this warning.\n",
      "  if not j.flags.writeable or j.dtype not in (np.int32, np.int64):\n",
      "/home/msachs/.conda/envs/venv/lib/python3.6/site-packages/scipy/sparse/lil.py:512: FutureWarning: future versions will not create a writeable array from broadcast_array. Set the writable flag explicitly to avoid this warning.\n",
      "  if not i.flags.writeable or i.dtype not in (np.int32, np.int64):\n",
      "/home/msachs/.conda/envs/venv/lib/python3.6/site-packages/scipy/sparse/lil.py:518: FutureWarning: future versions will not create a writeable array from broadcast_array. Set the writable flag explicitly to avoid this warning.\n",
      "  if not x.flags.writeable:\n"
     ]
    },
    {
     "name": "stdout",
     "output_type": "stream",
     "text": [
      "A2_1.mp3 A2_1 compressing...\n",
      "(383, 324) (12, 324) (20, 324)\n",
      "A2_2.mp3 A2_2 loading...\n"
     ]
    },
    {
     "name": "stderr",
     "output_type": "stream",
     "text": [
      "/home/msachs/.conda/envs/venv/lib/python3.6/site-packages/librosa/core/audio.py:161: UserWarning: PySoundFile failed. Trying audioread instead.\n",
      "  warnings.warn('PySoundFile failed. Trying audioread instead.')\n"
     ]
    },
    {
     "name": "stdout",
     "output_type": "stream",
     "text": [
      "257.0187755102041 44100\n"
     ]
    },
    {
     "name": "stderr",
     "output_type": "stream",
     "text": [
      "/home/msachs/.conda/envs/venv/lib/python3.6/site-packages/scipy/sparse/lil.py:512: FutureWarning: future versions will not create a writeable array from broadcast_array. Set the writable flag explicitly to avoid this warning.\n",
      "  if not i.flags.writeable or i.dtype not in (np.int32, np.int64):\n",
      "/home/msachs/.conda/envs/venv/lib/python3.6/site-packages/scipy/sparse/lil.py:514: FutureWarning: future versions will not create a writeable array from broadcast_array. Set the writable flag explicitly to avoid this warning.\n",
      "  if not j.flags.writeable or j.dtype not in (np.int32, np.int64):\n",
      "/home/msachs/.conda/envs/venv/lib/python3.6/site-packages/scipy/sparse/lil.py:512: FutureWarning: future versions will not create a writeable array from broadcast_array. Set the writable flag explicitly to avoid this warning.\n",
      "  if not i.flags.writeable or i.dtype not in (np.int32, np.int64):\n",
      "/home/msachs/.conda/envs/venv/lib/python3.6/site-packages/scipy/sparse/lil.py:518: FutureWarning: future versions will not create a writeable array from broadcast_array. Set the writable flag explicitly to avoid this warning.\n",
      "  if not x.flags.writeable:\n"
     ]
    },
    {
     "name": "stdout",
     "output_type": "stream",
     "text": [
      "A2_2.mp3 A2_2 compressing...\n",
      "(383, 257) (12, 257) (20, 257)\n",
      "A2_3.mp3 A2_3 loading...\n"
     ]
    },
    {
     "name": "stderr",
     "output_type": "stream",
     "text": [
      "/home/msachs/.conda/envs/venv/lib/python3.6/site-packages/librosa/core/audio.py:161: UserWarning: PySoundFile failed. Trying audioread instead.\n",
      "  warnings.warn('PySoundFile failed. Trying audioread instead.')\n"
     ]
    },
    {
     "name": "stdout",
     "output_type": "stream",
     "text": [
      "315.71591836734694 44100\n"
     ]
    },
    {
     "name": "stderr",
     "output_type": "stream",
     "text": [
      "/home/msachs/.conda/envs/venv/lib/python3.6/site-packages/scipy/sparse/lil.py:512: FutureWarning: future versions will not create a writeable array from broadcast_array. Set the writable flag explicitly to avoid this warning.\n",
      "  if not i.flags.writeable or i.dtype not in (np.int32, np.int64):\n",
      "/home/msachs/.conda/envs/venv/lib/python3.6/site-packages/scipy/sparse/lil.py:514: FutureWarning: future versions will not create a writeable array from broadcast_array. Set the writable flag explicitly to avoid this warning.\n",
      "  if not j.flags.writeable or j.dtype not in (np.int32, np.int64):\n",
      "/home/msachs/.conda/envs/venv/lib/python3.6/site-packages/scipy/sparse/lil.py:512: FutureWarning: future versions will not create a writeable array from broadcast_array. Set the writable flag explicitly to avoid this warning.\n",
      "  if not i.flags.writeable or i.dtype not in (np.int32, np.int64):\n",
      "/home/msachs/.conda/envs/venv/lib/python3.6/site-packages/scipy/sparse/lil.py:518: FutureWarning: future versions will not create a writeable array from broadcast_array. Set the writable flag explicitly to avoid this warning.\n",
      "  if not x.flags.writeable:\n"
     ]
    },
    {
     "name": "stdout",
     "output_type": "stream",
     "text": [
      "(383, 283) (12, 283) (20, 283)\n",
      "B1_3.mp3 B1_3 loading...\n"
     ]
    },
    {
     "name": "stderr",
     "output_type": "stream",
     "text": [
      "/home/msachs/.conda/envs/venv/lib/python3.6/site-packages/librosa/core/audio.py:161: UserWarning: PySoundFile failed. Trying audioread instead.\n",
      "  warnings.warn('PySoundFile failed. Trying audioread instead.')\n"
     ]
    },
    {
     "name": "stdout",
     "output_type": "stream",
     "text": [
      "305.8938775510204 44100\n"
     ]
    },
    {
     "name": "stderr",
     "output_type": "stream",
     "text": [
      "/home/msachs/.conda/envs/venv/lib/python3.6/site-packages/scipy/sparse/lil.py:512: FutureWarning: future versions will not create a writeable array from broadcast_array. Set the writable flag explicitly to avoid this warning.\n",
      "  if not i.flags.writeable or i.dtype not in (np.int32, np.int64):\n",
      "/home/msachs/.conda/envs/venv/lib/python3.6/site-packages/scipy/sparse/lil.py:514: FutureWarning: future versions will not create a writeable array from broadcast_array. Set the writable flag explicitly to avoid this warning.\n",
      "  if not j.flags.writeable or j.dtype not in (np.int32, np.int64):\n",
      "/home/msachs/.conda/envs/venv/lib/python3.6/site-packages/scipy/sparse/lil.py:512: FutureWarning: future versions will not create a writeable array from broadcast_array. Set the writable flag explicitly to avoid this warning.\n",
      "  if not i.flags.writeable or i.dtype not in (np.int32, np.int64):\n",
      "/home/msachs/.conda/envs/venv/lib/python3.6/site-packages/scipy/sparse/lil.py:518: FutureWarning: future versions will not create a writeable array from broadcast_array. Set the writable flag explicitly to avoid this warning.\n",
      "  if not x.flags.writeable:\n"
     ]
    }
   ],
   "source": [
    "#wave files are 48 kHz with 24 bits per sample\n",
    "dir_names.sort()\n",
    "for i in dir_names[1:]:\n",
    "    iname = i[-8:-4]\n",
    "    audio_file = filepath + i\n",
    "    \n",
    "    ofile_temp = path + '/acoustic_features/' + iname + '_tempo'\n",
    "    ofile_chroma = path + '/acoustic_features/' + iname + '_chroma'\n",
    "    ofile_mfcc = path + '/acoustic_features/' + iname + '_mfcc'\n",
    "    if os.path.exists(ofile_temp):\n",
    "        continue\n",
    "\n",
    "    # This is how we load audio using Librosa\n",
    "    print(i,iname,'loading...')\n",
    "    audio, sr = lb.load(audio_file, sr=44100, mono=False)\n",
    "    #audio, sr = librosa.load(audio_file, sr=None)\n",
    "\n",
    "    # Convert from stereo to mono since stft function only seems to work on mono data\n",
    "    audio_mono = lb.core.to_mono(audio)\n",
    "    print(len(audio_mono)/sr,sr)\n",
    "\n",
    "    y_harm = lb.effects.harmonic(y=audio_mono, margin=8)\n",
    "    chroma_os_harm = lb.feature.chroma_cqt(y=y_harm, sr=sr, bins_per_octave=12*3)\n",
    "    chroma_filter = np.minimum(chroma_os_harm,lb.decompose.nn_filter(chroma_os_harm, aggregate=np.median, metric='cosine'))\n",
    "    \n",
    "    print(i,iname,'compressing...')\n",
    "    chroma_smooth = sliding_avg(scipy.ndimage.median_filter(chroma_filter, size=(1, 9)),audio_mono,sr)\n",
    "\n",
    "    # Compute MFCC then compress in time\n",
    "    mfcc = lb.feature.mfcc(y=audio_mono, sr=sr)\n",
    "    compressed_mfcc = sliding_avg(mfcc,audio_mono,sr)\n",
    "\n",
    "    # Compute tempogram then compress in time\n",
    "    tgram = lb.feature.tempogram(y=audio_mono, sr=sr)\n",
    "    compressed_tgram = sliding_avg(tgram[1:,:],audio_mono,sr)\n",
    "    \n",
    "    print(compressed_tgram.shape,chroma_smooth.shape,compressed_mfcc.shape)\n",
    "\n",
    "    np.save(ofile_temp, compressed_tgram) \n",
    "    np.save(ofile_chroma,chroma_smooth)\n",
    "    np.save(ofile_mfcc,compressed_mfcc)"
   ]
  },
  {
   "cell_type": "markdown",
   "id": "polished-function",
   "metadata": {},
   "source": [
    "## Cross correlation and pearson with emotional label sums"
   ]
  },
  {
   "cell_type": "code",
   "execution_count": 567,
   "id": "thorough-chick",
   "metadata": {},
   "outputs": [
    {
     "name": "stdout",
     "output_type": "stream",
     "text": [
      "A1_1 musevents_a1_1 (323,) (20, 324) (12, 324) (383, 324)\n",
      "A1_2 musevents_a1_2 (256,) (20, 257) (12, 257) (383, 257)\n",
      "A1_3 musevents_a1_3 (315,) (20, 316) (12, 316) (383, 316)\n",
      "A2_1 musevents_a2_1 (323,) (20, 324) (12, 324) (383, 324)\n",
      "A2_2 musevents_a2_2 (257,) (20, 257) (12, 257) (383, 257)\n",
      "A2_3 musevents_a2_3 (315,) (20, 316) (12, 316) (383, 316)\n",
      "B1_1 musevents_b1_1 (307,) (20, 308) (12, 308) (383, 308)\n",
      "B1_2 musevents_b1_2 (282,) (20, 283) (12, 283) (383, 283)\n",
      "B1_3 musevents_b1_3 (305,) (20, 306) (12, 306) (383, 306)\n",
      "B2_1 musevents_b2_1 (307,) (20, 308) (12, 308) (383, 308)\n",
      "B2_2 musevents_b2_2 (288,) (20, 289) (12, 289) (383, 289)\n",
      "B2_3 musevents_b2_3 (305,) (20, 306) (12, 306) (383, 306)\n",
      "calm [-0.28512042  0.20791181  0.10781135  0.13483812  0.12210391  0.10781135\n",
      " -0.46728444]\n",
      "happy [ 0.08785508 -0.09790866 -0.07903233 -0.09304129 -0.0864293  -0.07903233\n",
      "  0.30259965]\n",
      "sad [-0.28594844  0.19178031  0.10144243  0.16878761  0.15316106  0.10144243\n",
      " -0.35030908]\n",
      "anxious [ 0.28510433 -0.11962604 -0.01741415 -0.01469936 -0.01306404 -0.01741415\n",
      "  0.33735766]\n",
      "nostalgic [-0.16813501  0.09660895  0.01366158  0.19258229  0.1815776   0.01366158\n",
      " -0.04097474]\n"
     ]
    }
   ],
   "source": [
    "dir_names.sort()\n",
    "cc_win = 10\n",
    "\n",
    "corrs = {e: np.zeros((7,len(studies))) for e in emos}\n",
    "for i,d in enumerate(dir_names):\n",
    "    dname = d[-8:-4]\n",
    "    study = [elem for elem in studies if dname.lower() in elem][0]\n",
    "    \n",
    "    ofile_temp = path + 'acoustic_features/' + dname + '_tempo.npy'\n",
    "    ofile_chroma = path + 'acoustic_features/' + dname + '_chroma.npy'\n",
    "    ofile_mfcc = path + 'acoustic_features/' + dname + '_mfcc.npy'\n",
    "    if os.path.exists(ofile_temp):\n",
    "        tgram_ds = np.load(ofile_temp) \n",
    "        chroma_ds = np.load(ofile_chroma)\n",
    "        mfcc_ds = np.load(ofile_mfcc)\n",
    "        print(dname,study, emo_sums[study][emos[0]].shape, mfcc_ds.shape, chroma_ds.shape,tgram_ds.shape)   \n",
    "        if emo_sums[study][emos[0]].shape[0] == mfcc_ds.shape[1]:\n",
    "            ignore_TRs = 0\n",
    "        else:\n",
    "            ignore_TRs = 1\n",
    "        for e in emos:\n",
    "            #CHROMA\n",
    "            if ignore_TRs > 0:\n",
    "                chroma_mean = chroma_ds[:,:-ignore_TRs].mean(axis = 0)\n",
    "                chroma_std = chroma_ds[:,:-ignore_TRs].std(axis = 0)\n",
    "                chroma_max = chroma_ds[:,:-ignore_TRs].max(axis = 0)\n",
    "                tgram_mean = tgram_ds[:,:-ignore_TRs].mean(axis = 0)\n",
    "                tgram_std = tgram_ds[:,:-ignore_TRs].std(axis = 0)\n",
    "                tgram_max = tgram_ds[:,:-ignore_TRs].max(axis = 0)\n",
    "                mfcc_one  = mfcc_ds[0,:-ignore_TRs]\n",
    "            else:\n",
    "                chroma_mean = chroma_ds.mean(axis = 0)\n",
    "                chroma_std = chroma_ds.std(axis = 0)\n",
    "                chroma_max = chroma_ds.max(axis = 0)\n",
    "                tgram_mean = tgram_ds.mean(axis = 0)\n",
    "                tgram_std = tgram_ds.std(axis = 0)\n",
    "                tgram_max = tgram_ds.max(axis = 0)\n",
    "                mfcc_one  = mfcc_ds[0]\n",
    "                \n",
    "            pR = pearsonr(emo_sums[study][e],chroma_mean)[0]\n",
    "            pr_sd = pearsonr(emo_sums[study][e],chroma_std)[0]\n",
    "            pr_max = pearsonr(emo_sums[study][e],chroma_max)[0]\n",
    "            #print(e,'chroma mean:',pR,'chroma std:',pr_sd,'chroma max:',pr_max)\n",
    "            \n",
    "            pR2 = pearsonr(emo_sums[study][e],tgram_mean)[0]\n",
    "            pr_sd2 = pearsonr(emo_sums[study][e],tgram_std)[0]\n",
    "            pr_max2 = pearsonr(emo_sums[study][e],chroma_max)[0]\n",
    "            #print(e,'tgram mean:',pR,'tgram std:',pr_sd,'tgram max',pr_max)\n",
    "            \n",
    "            pr_mfcc = pearsonr(emo_sums[study][e],mfcc_one)[0]\n",
    "            #print(e,'mfcc/rms',pr_mfcc)\n",
    "            corrs[e][:,i] = pR,pr_sd,pr_max,pR2,pr_sd2,pr_max2,pr_mfcc\n",
    "            #corrs[e] = np.append([])\n",
    "for e in emos:\n",
    "    #print(e,corrs[e].max(axis = 1))\n",
    "    print(e,corrs[e].mean(axis = 1))\n",
    "\n",
    "    # FOR CORRELATIONS WITH ALL FEAUTRES (NOT MEAN, STD, or MAX)\n",
    "#             for d in range(chroma_ds.shape[0]):\n",
    "#                 lag,corr,cc = crosscor(emo_sums[study][e],chroma_ds[d,:],cc_win,ignore_TRs)\n",
    "#                 if ignore_TRs > 0:\n",
    "#                     pR = pearsonr(emo_sums[study][e],chroma_ds[d,:-ignore_TRs])[0]\n",
    "#                 else:\n",
    "#                     pR = pearsonr(emo_sums[study][e],chroma_ds[d,])[0]\n",
    "                    \n",
    "#                 if abs(corr) > 0.5:\n",
    "#                     print('\\t','chroma',d,e,corr,lag)\n",
    "                \n",
    "#                 if abs(pR) > 0.5:\n",
    "#                     print('\\t','full chroma',d,e,pR)\n",
    "            \n",
    "#              #MFCC\n",
    "#             for d in range(mfcc_ds.shape[0]):\n",
    "#                 lag,corr,cc = crosscor(emo_sums[study][e],mfcc_ds[d,:],cc_win,ignore_TRs)\n",
    "#                 if ignore_TRs > 0:\n",
    "#                     pR = pearsonr(emo_sums[study][e],mfcc_ds[d,:-ignore_TRs])[0]\n",
    "#                 else:\n",
    "#                     pR = pearsonr(emo_sums[study][e],mfcc_ds[d,])[0]\n",
    "#                 if abs(corr) > 0.5:\n",
    "#                     print('\\t','mfcc',d,e,corr,lag)\n",
    "#                 if abs(pR) > 0.5:\n",
    "#                     print('\\t','full mfcc',d,e,pR)\n",
    "#             #TGRAM\n",
    "#             for d in range(tgram_ds.shape[0]):\n",
    "#                 lag,corr,cc = crosscor(emo_sums[study][e],tgram_ds[d,:],cc_win,ignore_TRs)\n",
    "#             if ignore_TRs > 0:\n",
    "#                     pR = pearsonr(emo_sums[study][e],tgram_ds[d,:-ignore_TRs])[0]\n",
    "#                 else:\n",
    "#                     pR = pearsonr(emo_sums[study][e],tgram_ds[d,])[0]\n",
    "                    \n",
    "#                 if abs(corr) > 0.5:\n",
    "#                     print('\\t','tgram',d,e,corr,lag)\n",
    "#                 if abs(pR) > 0.5:\n",
    "#                     print('\\t','full tgram',d,e,pR)\n",
    "# #                     plt.plot(np.arange(-1 * cc_win, cc_win + 1), cc)\n",
    "# #                     plt.xlabel('Shift')\n",
    "# #                     plt.ylabel('Correlation')\n",
    "# #                     plt.title(d,e)\n",
    "# #                     plt.show()"
   ]
  },
  {
   "cell_type": "markdown",
   "id": "likely-occasion",
   "metadata": {},
   "source": [
    "## Extract Additional features beyond tempogram, mfcc, and chroma (spectral, rms, tonal)"
   ]
  },
  {
   "cell_type": "code",
   "execution_count": 484,
   "id": "comprehensive-rapid",
   "metadata": {},
   "outputs": [
    {
     "name": "stderr",
     "output_type": "stream",
     "text": [
      "/home/msachs/.conda/envs/venv/lib/python3.6/site-packages/librosa/core/audio.py:161: UserWarning: PySoundFile failed. Trying audioread instead.\n",
      "  warnings.warn('PySoundFile failed. Trying audioread instead.')\n"
     ]
    },
    {
     "name": "stdout",
     "output_type": "stream",
     "text": [
      "Computing features for A1_1.mp3\n"
     ]
    },
    {
     "name": "stderr",
     "output_type": "stream",
     "text": [
      "/home/msachs/.conda/envs/venv/lib/python3.6/site-packages/scipy/sparse/lil.py:512: FutureWarning: future versions will not create a writeable array from broadcast_array. Set the writable flag explicitly to avoid this warning.\n",
      "  if not i.flags.writeable or i.dtype not in (np.int32, np.int64):\n",
      "/home/msachs/.conda/envs/venv/lib/python3.6/site-packages/scipy/sparse/lil.py:514: FutureWarning: future versions will not create a writeable array from broadcast_array. Set the writable flag explicitly to avoid this warning.\n",
      "  if not j.flags.writeable or j.dtype not in (np.int32, np.int64):\n"
     ]
    },
    {
     "name": "stdout",
     "output_type": "stream",
     "text": [
      "RMS - MFCC 1 0.7888616664349981\n",
      "RMS - MFCC 2 0.5256659348971483\n"
     ]
    },
    {
     "name": "stderr",
     "output_type": "stream",
     "text": [
      "/home/msachs/.conda/envs/venv/lib/python3.6/site-packages/librosa/core/audio.py:161: UserWarning: PySoundFile failed. Trying audioread instead.\n",
      "  warnings.warn('PySoundFile failed. Trying audioread instead.')\n"
     ]
    },
    {
     "name": "stdout",
     "output_type": "stream",
     "text": [
      "Computing features for A1_2.mp3\n"
     ]
    },
    {
     "name": "stderr",
     "output_type": "stream",
     "text": [
      "/home/msachs/.conda/envs/venv/lib/python3.6/site-packages/scipy/sparse/lil.py:512: FutureWarning: future versions will not create a writeable array from broadcast_array. Set the writable flag explicitly to avoid this warning.\n",
      "  if not i.flags.writeable or i.dtype not in (np.int32, np.int64):\n",
      "/home/msachs/.conda/envs/venv/lib/python3.6/site-packages/scipy/sparse/lil.py:514: FutureWarning: future versions will not create a writeable array from broadcast_array. Set the writable flag explicitly to avoid this warning.\n",
      "  if not j.flags.writeable or j.dtype not in (np.int32, np.int64):\n"
     ]
    },
    {
     "name": "stdout",
     "output_type": "stream",
     "text": [
      "RMS - MFCC 1 0.8969808632859231\n",
      "RMS - MFCC 2 0.6591484309157745\n"
     ]
    },
    {
     "name": "stderr",
     "output_type": "stream",
     "text": [
      "/home/msachs/.conda/envs/venv/lib/python3.6/site-packages/librosa/core/audio.py:161: UserWarning: PySoundFile failed. Trying audioread instead.\n",
      "  warnings.warn('PySoundFile failed. Trying audioread instead.')\n"
     ]
    },
    {
     "name": "stdout",
     "output_type": "stream",
     "text": [
      "Computing features for A1_3.mp3\n"
     ]
    },
    {
     "name": "stderr",
     "output_type": "stream",
     "text": [
      "/home/msachs/.conda/envs/venv/lib/python3.6/site-packages/scipy/sparse/lil.py:512: FutureWarning: future versions will not create a writeable array from broadcast_array. Set the writable flag explicitly to avoid this warning.\n",
      "  if not i.flags.writeable or i.dtype not in (np.int32, np.int64):\n",
      "/home/msachs/.conda/envs/venv/lib/python3.6/site-packages/scipy/sparse/lil.py:514: FutureWarning: future versions will not create a writeable array from broadcast_array. Set the writable flag explicitly to avoid this warning.\n",
      "  if not j.flags.writeable or j.dtype not in (np.int32, np.int64):\n"
     ]
    },
    {
     "name": "stdout",
     "output_type": "stream",
     "text": [
      "RMS - MFCC 1 0.8069677260143854\n",
      "RMS - MFCC 2 0.4277302408747829\n"
     ]
    },
    {
     "name": "stderr",
     "output_type": "stream",
     "text": [
      "/home/msachs/.conda/envs/venv/lib/python3.6/site-packages/librosa/core/audio.py:161: UserWarning: PySoundFile failed. Trying audioread instead.\n",
      "  warnings.warn('PySoundFile failed. Trying audioread instead.')\n"
     ]
    },
    {
     "name": "stdout",
     "output_type": "stream",
     "text": [
      "Computing features for A2_1.mp3\n"
     ]
    },
    {
     "name": "stderr",
     "output_type": "stream",
     "text": [
      "/home/msachs/.conda/envs/venv/lib/python3.6/site-packages/scipy/sparse/lil.py:512: FutureWarning: future versions will not create a writeable array from broadcast_array. Set the writable flag explicitly to avoid this warning.\n",
      "  if not i.flags.writeable or i.dtype not in (np.int32, np.int64):\n",
      "/home/msachs/.conda/envs/venv/lib/python3.6/site-packages/scipy/sparse/lil.py:514: FutureWarning: future versions will not create a writeable array from broadcast_array. Set the writable flag explicitly to avoid this warning.\n",
      "  if not j.flags.writeable or j.dtype not in (np.int32, np.int64):\n"
     ]
    },
    {
     "name": "stdout",
     "output_type": "stream",
     "text": [
      "RMS - MFCC 1 0.8713090193776389\n",
      "RMS - MFCC 2 0.37780298806326956\n"
     ]
    },
    {
     "name": "stderr",
     "output_type": "stream",
     "text": [
      "/home/msachs/.conda/envs/venv/lib/python3.6/site-packages/librosa/core/audio.py:161: UserWarning: PySoundFile failed. Trying audioread instead.\n",
      "  warnings.warn('PySoundFile failed. Trying audioread instead.')\n"
     ]
    },
    {
     "name": "stdout",
     "output_type": "stream",
     "text": [
      "Computing features for A2_2.mp3\n"
     ]
    },
    {
     "name": "stderr",
     "output_type": "stream",
     "text": [
      "/home/msachs/.conda/envs/venv/lib/python3.6/site-packages/scipy/sparse/lil.py:512: FutureWarning: future versions will not create a writeable array from broadcast_array. Set the writable flag explicitly to avoid this warning.\n",
      "  if not i.flags.writeable or i.dtype not in (np.int32, np.int64):\n",
      "/home/msachs/.conda/envs/venv/lib/python3.6/site-packages/scipy/sparse/lil.py:514: FutureWarning: future versions will not create a writeable array from broadcast_array. Set the writable flag explicitly to avoid this warning.\n",
      "  if not j.flags.writeable or j.dtype not in (np.int32, np.int64):\n"
     ]
    },
    {
     "name": "stdout",
     "output_type": "stream",
     "text": [
      "RMS - MFCC 1 0.8701055910476999\n",
      "RMS - MFCC 2 0.5822004381460112\n"
     ]
    },
    {
     "name": "stderr",
     "output_type": "stream",
     "text": [
      "/home/msachs/.conda/envs/venv/lib/python3.6/site-packages/librosa/core/audio.py:161: UserWarning: PySoundFile failed. Trying audioread instead.\n",
      "  warnings.warn('PySoundFile failed. Trying audioread instead.')\n"
     ]
    },
    {
     "name": "stdout",
     "output_type": "stream",
     "text": [
      "Computing features for A2_3.mp3\n"
     ]
    },
    {
     "name": "stderr",
     "output_type": "stream",
     "text": [
      "/home/msachs/.conda/envs/venv/lib/python3.6/site-packages/scipy/sparse/lil.py:512: FutureWarning: future versions will not create a writeable array from broadcast_array. Set the writable flag explicitly to avoid this warning.\n",
      "  if not i.flags.writeable or i.dtype not in (np.int32, np.int64):\n",
      "/home/msachs/.conda/envs/venv/lib/python3.6/site-packages/scipy/sparse/lil.py:514: FutureWarning: future versions will not create a writeable array from broadcast_array. Set the writable flag explicitly to avoid this warning.\n",
      "  if not j.flags.writeable or j.dtype not in (np.int32, np.int64):\n"
     ]
    },
    {
     "name": "stdout",
     "output_type": "stream",
     "text": [
      "RMS - MFCC 1 0.7627784685618727\n",
      "RMS - MFCC 2 0.4752614762742774\n"
     ]
    },
    {
     "name": "stderr",
     "output_type": "stream",
     "text": [
      "/home/msachs/.conda/envs/venv/lib/python3.6/site-packages/librosa/core/audio.py:161: UserWarning: PySoundFile failed. Trying audioread instead.\n",
      "  warnings.warn('PySoundFile failed. Trying audioread instead.')\n"
     ]
    },
    {
     "name": "stdout",
     "output_type": "stream",
     "text": [
      "Computing features for B1_1.mp3\n"
     ]
    },
    {
     "name": "stderr",
     "output_type": "stream",
     "text": [
      "/home/msachs/.conda/envs/venv/lib/python3.6/site-packages/scipy/sparse/lil.py:512: FutureWarning: future versions will not create a writeable array from broadcast_array. Set the writable flag explicitly to avoid this warning.\n",
      "  if not i.flags.writeable or i.dtype not in (np.int32, np.int64):\n",
      "/home/msachs/.conda/envs/venv/lib/python3.6/site-packages/scipy/sparse/lil.py:514: FutureWarning: future versions will not create a writeable array from broadcast_array. Set the writable flag explicitly to avoid this warning.\n",
      "  if not j.flags.writeable or j.dtype not in (np.int32, np.int64):\n"
     ]
    },
    {
     "name": "stdout",
     "output_type": "stream",
     "text": [
      "RMS - MFCC 1 0.8630688663544922\n",
      "RMS - MFCC 2 0.391357054581646\n"
     ]
    },
    {
     "name": "stderr",
     "output_type": "stream",
     "text": [
      "/home/msachs/.conda/envs/venv/lib/python3.6/site-packages/librosa/core/audio.py:161: UserWarning: PySoundFile failed. Trying audioread instead.\n",
      "  warnings.warn('PySoundFile failed. Trying audioread instead.')\n"
     ]
    },
    {
     "name": "stdout",
     "output_type": "stream",
     "text": [
      "Computing features for B1_2.mp3\n"
     ]
    },
    {
     "name": "stderr",
     "output_type": "stream",
     "text": [
      "/home/msachs/.conda/envs/venv/lib/python3.6/site-packages/scipy/sparse/lil.py:512: FutureWarning: future versions will not create a writeable array from broadcast_array. Set the writable flag explicitly to avoid this warning.\n",
      "  if not i.flags.writeable or i.dtype not in (np.int32, np.int64):\n",
      "/home/msachs/.conda/envs/venv/lib/python3.6/site-packages/scipy/sparse/lil.py:514: FutureWarning: future versions will not create a writeable array from broadcast_array. Set the writable flag explicitly to avoid this warning.\n",
      "  if not j.flags.writeable or j.dtype not in (np.int32, np.int64):\n"
     ]
    },
    {
     "name": "stdout",
     "output_type": "stream",
     "text": [
      "RMS - MFCC 1 0.8245065686481151\n",
      "RMS - MFCC 2 0.453760327004721\n"
     ]
    },
    {
     "name": "stderr",
     "output_type": "stream",
     "text": [
      "/home/msachs/.conda/envs/venv/lib/python3.6/site-packages/librosa/core/audio.py:161: UserWarning: PySoundFile failed. Trying audioread instead.\n",
      "  warnings.warn('PySoundFile failed. Trying audioread instead.')\n"
     ]
    },
    {
     "name": "stdout",
     "output_type": "stream",
     "text": [
      "Computing features for B1_3.mp3\n"
     ]
    },
    {
     "name": "stderr",
     "output_type": "stream",
     "text": [
      "/home/msachs/.conda/envs/venv/lib/python3.6/site-packages/scipy/sparse/lil.py:512: FutureWarning: future versions will not create a writeable array from broadcast_array. Set the writable flag explicitly to avoid this warning.\n",
      "  if not i.flags.writeable or i.dtype not in (np.int32, np.int64):\n",
      "/home/msachs/.conda/envs/venv/lib/python3.6/site-packages/scipy/sparse/lil.py:514: FutureWarning: future versions will not create a writeable array from broadcast_array. Set the writable flag explicitly to avoid this warning.\n",
      "  if not j.flags.writeable or j.dtype not in (np.int32, np.int64):\n"
     ]
    },
    {
     "name": "stdout",
     "output_type": "stream",
     "text": [
      "RMS - MFCC 1 0.828127481055286\n",
      "RMS - MFCC 2 0.603218250286361\n"
     ]
    },
    {
     "name": "stderr",
     "output_type": "stream",
     "text": [
      "/home/msachs/.conda/envs/venv/lib/python3.6/site-packages/librosa/core/audio.py:161: UserWarning: PySoundFile failed. Trying audioread instead.\n",
      "  warnings.warn('PySoundFile failed. Trying audioread instead.')\n"
     ]
    },
    {
     "name": "stdout",
     "output_type": "stream",
     "text": [
      "Computing features for B2_1.mp3\n"
     ]
    },
    {
     "name": "stderr",
     "output_type": "stream",
     "text": [
      "/home/msachs/.conda/envs/venv/lib/python3.6/site-packages/scipy/sparse/lil.py:512: FutureWarning: future versions will not create a writeable array from broadcast_array. Set the writable flag explicitly to avoid this warning.\n",
      "  if not i.flags.writeable or i.dtype not in (np.int32, np.int64):\n",
      "/home/msachs/.conda/envs/venv/lib/python3.6/site-packages/scipy/sparse/lil.py:514: FutureWarning: future versions will not create a writeable array from broadcast_array. Set the writable flag explicitly to avoid this warning.\n",
      "  if not j.flags.writeable or j.dtype not in (np.int32, np.int64):\n"
     ]
    },
    {
     "name": "stdout",
     "output_type": "stream",
     "text": [
      "RMS - MFCC 1 0.8237820918104609\n",
      "RMS - MFCC 2 0.48635056126254517\n"
     ]
    },
    {
     "name": "stderr",
     "output_type": "stream",
     "text": [
      "/home/msachs/.conda/envs/venv/lib/python3.6/site-packages/librosa/core/audio.py:161: UserWarning: PySoundFile failed. Trying audioread instead.\n",
      "  warnings.warn('PySoundFile failed. Trying audioread instead.')\n"
     ]
    },
    {
     "name": "stdout",
     "output_type": "stream",
     "text": [
      "Computing features for B2_2.mp3\n"
     ]
    },
    {
     "name": "stderr",
     "output_type": "stream",
     "text": [
      "/home/msachs/.conda/envs/venv/lib/python3.6/site-packages/scipy/sparse/lil.py:512: FutureWarning: future versions will not create a writeable array from broadcast_array. Set the writable flag explicitly to avoid this warning.\n",
      "  if not i.flags.writeable or i.dtype not in (np.int32, np.int64):\n",
      "/home/msachs/.conda/envs/venv/lib/python3.6/site-packages/scipy/sparse/lil.py:514: FutureWarning: future versions will not create a writeable array from broadcast_array. Set the writable flag explicitly to avoid this warning.\n",
      "  if not j.flags.writeable or j.dtype not in (np.int32, np.int64):\n"
     ]
    },
    {
     "name": "stdout",
     "output_type": "stream",
     "text": [
      "RMS - MFCC 1 0.8155792313951734\n",
      "RMS - MFCC 2 0.41789407402722667\n"
     ]
    },
    {
     "name": "stderr",
     "output_type": "stream",
     "text": [
      "/home/msachs/.conda/envs/venv/lib/python3.6/site-packages/librosa/core/audio.py:161: UserWarning: PySoundFile failed. Trying audioread instead.\n",
      "  warnings.warn('PySoundFile failed. Trying audioread instead.')\n"
     ]
    },
    {
     "name": "stdout",
     "output_type": "stream",
     "text": [
      "Computing features for B2_3.mp3\n"
     ]
    },
    {
     "name": "stderr",
     "output_type": "stream",
     "text": [
      "/home/msachs/.conda/envs/venv/lib/python3.6/site-packages/scipy/sparse/lil.py:512: FutureWarning: future versions will not create a writeable array from broadcast_array. Set the writable flag explicitly to avoid this warning.\n",
      "  if not i.flags.writeable or i.dtype not in (np.int32, np.int64):\n",
      "/home/msachs/.conda/envs/venv/lib/python3.6/site-packages/scipy/sparse/lil.py:514: FutureWarning: future versions will not create a writeable array from broadcast_array. Set the writable flag explicitly to avoid this warning.\n",
      "  if not j.flags.writeable or j.dtype not in (np.int32, np.int64):\n"
     ]
    },
    {
     "name": "stdout",
     "output_type": "stream",
     "text": [
      "RMS - MFCC 1 0.8156701728267645\n",
      "RMS - MFCC 2 0.6240788937118451\n"
     ]
    }
   ],
   "source": [
    "#tonal centroid --> key clarity --> standard deviation of tonez (standard deviation ) maybe? or to chroma cqt\n",
    "#Centroid mean --> brigthness\n",
    "#Rolloff --> also brightness \n",
    "#Spread -> MIRSPREAD --> fullness (wide or narrow) --> bandwith\n",
    "\n",
    "feats_short = ['centroid','spread','rolloff','rms','specnovel','tonnetz']\n",
    "\n",
    "#wave files are 48 kHz with 24 bits per sample\n",
    "dir_names.sort()\n",
    "for i in dir_names:\n",
    "    iname = i[-8:-4]\n",
    "    ofile = '%s/acoustic_features/%s_feats_nowin.npy' %(path,iname)\n",
    "    audio_file = filepath + i\n",
    "    y, sr = lb.load(audio_file,sr=None)\n",
    "\n",
    "    win = int(window*sr)\n",
    "    hop = int(hopsize*sr)\n",
    "    length = len(y)/sr\n",
    "    \n",
    "    print('Computing features for',i)\n",
    "    centroid = lb.feature.spectral_centroid(y,sr)\n",
    "    spread = lb.feature.spectral_bandwidth(y,sr)\n",
    "    rolloff = lb.feature.spectral_rolloff(y,sr)\n",
    "    rms = lb.feature.rms(y)\n",
    "    specnovel = lb.onset.onset_strength(y, sr=sr)\n",
    "    tonnetz = lb.feature.tonnetz(y=y, sr=sr)\n",
    "\n",
    "    short_feats = np.vstack([centroid,spread,rolloff,rms,specnovel,tonnetz]) \n",
    "    short_feats_ds = sliding_avg(short_feats,y,sr)\n",
    "    \n",
    "    ofile_mfcc = path + 'acoustic_features/' + iname + '_mfcc.npy'\n",
    "    mfcc_ds = np.load(ofile_mfcc)\n",
    "    print('RMS - MFCC 1', pearsonr(short_feats_ds[3,:],mfcc_ds[0,])[0])\n",
    "    print('RMS - MFCC 2', pearsonr(short_feats_ds[3,:],mfcc_ds[1,])[0])\n",
    "    \n",
    "    if not os.path.exists(ofile):\n",
    "        np.save(ofile,short_feats_ds)\n",
    "\n",
    "for c in chroma_ds.shape[0]:\n",
    "    print(pearsonr(chroma_ds[c],tonnetz))"
   ]
  },
  {
   "cell_type": "code",
   "execution_count": null,
   "id": "extra-elephant",
   "metadata": {},
   "outputs": [],
   "source": [
    "## Correlate spectral, rms, tonnetz with ratings"
   ]
  },
  {
   "cell_type": "code",
   "execution_count": 38,
   "id": "focal-russia",
   "metadata": {},
   "outputs": [
    {
     "name": "stdout",
     "output_type": "stream",
     "text": [
      "\t A1_1.mp3 sum centroid -0.1118962773613967\n",
      "\t A1_1.mp3 sum centroid -0.10949122597829188 [0]\n",
      "\t A1_1.mp3 sum spread -0.05393273088748676\n",
      "\t A1_1.mp3 sum spread -0.08474666014449181 [0]\n",
      "\t A1_1.mp3 sum rolloff -0.09609065385370882\n",
      "\t A1_1.mp3 sum rolloff -0.07977868345179429 [0]\n",
      "\t A1_1.mp3 sum rms 0.25534216507456475\n",
      "\t A1_1.mp3 sum rms 0.4372440449224152 [0]\n",
      "\t A1_1.mp3 sum specnovel -0.023307273890310412\n",
      "\t A1_1.mp3 sum specnovel 0.07253869498798253 [0]\n",
      "\t A1_1.mp3 sum tonnetz 0.012258834267481025\n",
      "\t A1_1.mp3 sum tonnetz -0.044361447707938706 [13]\n",
      "\t A1_2.mp3 sum centroid 0.20212255816109925\n",
      "\t A1_2.mp3 sum centroid 0.18963277473412363 [0]\n",
      "\t A1_2.mp3 sum spread 0.17571818861007724\n",
      "\t A1_2.mp3 sum spread 0.18200936029913092 [0]\n",
      "\t A1_2.mp3 sum rolloff 0.15559689621857034\n",
      "\t A1_2.mp3 sum rolloff 0.15309002416367848 [0]\n",
      "\t A1_2.mp3 sum rms 0.16468204673131193\n",
      "\t A1_2.mp3 sum rms 0.1833422812348758 [1]\n",
      "\t A1_2.mp3 sum specnovel 0.06667071757081798\n",
      "\t A1_2.mp3 sum specnovel 0.08321165836940024 [3]\n",
      "\t A1_2.mp3 sum tonnetz -0.08647492820851178\n",
      "\t A1_2.mp3 sum tonnetz -0.04679537990654516 [15]\n",
      "\t A1_3.mp3 sum centroid 0.1390836387193089\n",
      "\t A1_3.mp3 sum centroid 0.2810326640440564 [5]\n",
      "\t A1_3.mp3 sum spread 0.16517214851622328\n",
      "\t A1_3.mp3 sum spread 0.35793285697215144 [5]\n",
      "\t A1_3.mp3 sum rolloff 0.16156672514987824\n",
      "\t A1_3.mp3 sum rolloff 0.28903787728119523 [5]\n",
      "\t A1_3.mp3 sum rms 0.09292665128376938\n",
      "\t A1_3.mp3 sum rms 0.18142592996636497 [4]\n",
      "\t A1_3.mp3 sum specnovel -0.11809373939487348\n",
      "\t A1_3.mp3 sum specnovel -0.015740771520857396 [4]\n",
      "\t A1_3.mp3 sum tonnetz -0.021280114403596343\n",
      "\t A1_3.mp3 sum tonnetz -0.04011198797938654 [0]\n",
      "\t A2_1.mp3 sum centroid 0.07707001889768603\n",
      "\t A2_1.mp3 sum centroid 0.24012845334221433 [0]\n",
      "\t A2_1.mp3 sum spread 0.009742956613499935\n",
      "\t A2_1.mp3 sum spread 0.2087901827197563 [0]\n",
      "\t A2_1.mp3 sum rolloff 0.07903249637045373\n",
      "\t A2_1.mp3 sum rolloff 0.2692236434685791 [0]\n",
      "\t A2_1.mp3 sum rms 0.12318707801046064\n",
      "\t A2_1.mp3 sum rms 0.1802004880647414 [0]\n",
      "\t A2_1.mp3 sum specnovel 0.15191584205558165\n",
      "\t A2_1.mp3 sum specnovel 0.2452097678828317 [0]\n",
      "\t A2_1.mp3 sum tonnetz -0.027523169303712677\n",
      "\t A2_1.mp3 sum tonnetz -0.014940901689765598 [0]\n",
      "\t A2_2.mp3 sum centroid -0.030603015875062888\n",
      "\t A2_2.mp3 sum centroid 0.19822079305173745 [11]\n",
      "\t A2_2.mp3 sum spread 0.06367194616622633\n",
      "\t A2_2.mp3 sum spread 0.2776179096444386 [11]\n",
      "\t A2_2.mp3 sum rolloff -0.00539782571348419\n",
      "\t A2_2.mp3 sum rolloff 0.226251748901758 [11]\n",
      "\t A2_2.mp3 sum rms -0.2287201941992818\n",
      "\t A2_2.mp3 sum rms 0.024908364226085673 [4]\n",
      "\t A2_2.mp3 sum specnovel -0.22591324459609513\n",
      "\t A2_2.mp3 sum specnovel -0.053150798853053655 [8]\n",
      "\t A2_2.mp3 sum tonnetz 0.07613214012592164\n",
      "\t A2_2.mp3 sum tonnetz 0.10704018394751173 [16]\n",
      "\t A2_3.mp3 sum centroid -0.12047671486378556\n",
      "\t A2_3.mp3 sum centroid -0.09942571435161136 [3]\n",
      "\t A2_3.mp3 sum spread -0.008979480966032963\n",
      "\t A2_3.mp3 sum spread -0.01232713864846353 [3]\n",
      "\t A2_3.mp3 sum rolloff -0.11937217458155924\n",
      "\t A2_3.mp3 sum rolloff -0.09763150936156172 [3]\n",
      "\t A2_3.mp3 sum rms 0.18002180454781233\n",
      "\t A2_3.mp3 sum rms 0.413528399727734 [5]\n",
      "\t A2_3.mp3 sum specnovel -0.19241002290425696\n",
      "\t A2_3.mp3 sum specnovel -0.061266672299027755 [5]\n",
      "\t A2_3.mp3 sum tonnetz -0.09045222328980192\n",
      "\t A2_3.mp3 sum tonnetz 0.019839770811733624 [16]\n",
      "\t B1_1.mp3 sum centroid -0.04039909048920181\n",
      "\t B1_1.mp3 sum centroid -0.06234893119557145 [0]\n",
      "\t B1_1.mp3 sum spread 0.08864388563670673\n",
      "\t B1_1.mp3 sum spread 0.09632547326665798 [0]\n",
      "\t B1_1.mp3 sum rolloff -0.011763648925431556\n",
      "\t B1_1.mp3 sum rolloff -0.028059379380215372 [0]\n",
      "\t B1_1.mp3 sum rms -0.1357551819913809\n",
      "\t B1_1.mp3 sum rms -0.13362292773889506 [0]\n",
      "\t B1_1.mp3 sum specnovel -0.26750397824106636\n",
      "\t B1_1.mp3 sum specnovel -0.21953704736940693 [0]\n",
      "\t B1_1.mp3 sum tonnetz 0.11460242570984452\n",
      "\t B1_1.mp3 sum tonnetz 0.057916716924842446 [16]\n",
      "\t B1_2.mp3 sum centroid -0.256881538399057\n",
      "\t B1_2.mp3 sum centroid -0.11103459534531186 [0]\n",
      "\t B1_2.mp3 sum spread -0.23205620145552058\n",
      "\t B1_2.mp3 sum spread -0.1426964681804792 [0]\n",
      "\t B1_2.mp3 sum rolloff -0.1966369464795196\n",
      "\t B1_2.mp3 sum rolloff -0.03344313546647785 [0]\n",
      "\t B1_2.mp3 sum rms -0.11787488890415737\n",
      "\t B1_2.mp3 sum rms 0.18152273087712623 [2]\n",
      "\t B1_2.mp3 sum specnovel -0.3352966108595445\n",
      "\t B1_2.mp3 sum specnovel -0.11238500076712579 [0]\n",
      "\t B1_2.mp3 sum tonnetz 0.11852116114878317\n",
      "\t B1_2.mp3 sum tonnetz 0.1221508022688315 [16]\n",
      "\t B1_3.mp3 sum centroid 0.2394329845372805\n",
      "\t B1_3.mp3 sum centroid 0.27242845289106743 [3]\n",
      "\t B1_3.mp3 sum spread 0.34378240222058576\n",
      "\t B1_3.mp3 sum spread 0.3926598738745679 [2]\n",
      "\t B1_3.mp3 sum rolloff 0.24210538433210904\n",
      "\t B1_3.mp3 sum rolloff 0.27121931235229707 [6]\n",
      "\t B1_3.mp3 sum rms -0.03742829849545916\n",
      "\t B1_3.mp3 sum rms -0.04263040258550309 [0]\n",
      "\t B1_3.mp3 sum specnovel -0.17552845805209785\n",
      "\t B1_3.mp3 sum specnovel -0.1513381922891577 [2]\n",
      "\t B1_3.mp3 sum tonnetz 0.19330784108292112\n",
      "\t B1_3.mp3 sum tonnetz 0.2136105774196844 [0]\n",
      "\t B2_1.mp3 sum centroid 0.004256410876963556\n",
      "\t B2_1.mp3 sum centroid 0.11354154264655478 [0]\n",
      "\t B2_1.mp3 sum spread 0.06851961494445437\n",
      "\t B2_1.mp3 sum spread 0.2267882575324984 [0]\n",
      "\t B2_1.mp3 sum rolloff 0.039276291593510884\n",
      "\t B2_1.mp3 sum rolloff 0.1487821520691543 [0]\n",
      "\t B2_1.mp3 sum rms -0.12444696023286748\n",
      "\t B2_1.mp3 sum rms -0.0793491239819411 [1]\n",
      "\t B2_1.mp3 sum specnovel -0.2526733299491546\n",
      "\t B2_1.mp3 sum specnovel -0.12684942918894382 [0]\n",
      "\t B2_1.mp3 sum tonnetz -0.03140343423306576\n",
      "\t B2_1.mp3 sum tonnetz 0.1177798091457744 [16]\n",
      "\t B2_2.mp3 sum centroid -0.18156350329591964\n",
      "\t B2_2.mp3 sum centroid -0.15993504548704654 [0]\n",
      "\t B2_2.mp3 sum spread -0.057958991298980085\n",
      "\t B2_2.mp3 sum spread -0.05358709529383738 [0]\n",
      "\t B2_2.mp3 sum rolloff -0.14686699105218304\n",
      "\t B2_2.mp3 sum rolloff -0.11400815716863905 [0]\n",
      "\t B2_2.mp3 sum rms -0.27918796288285525\n",
      "\t B2_2.mp3 sum rms -0.15303265768569993 [7]\n",
      "\t B2_2.mp3 sum specnovel -0.4012596326531519\n",
      "\t B2_2.mp3 sum specnovel -0.2832203607153546 [3]\n",
      "\t B2_2.mp3 sum tonnetz 0.1235725643852638\n",
      "\t B2_2.mp3 sum tonnetz -0.06077263263351041 [0]\n",
      "\t B2_3.mp3 sum centroid -0.04453274109837669\n",
      "\t B2_3.mp3 sum centroid -0.09754401202135372 [0]\n",
      "\t B2_3.mp3 sum spread 0.0625770824976263\n",
      "\t B2_3.mp3 sum spread -0.0006948582870540575 [0]\n",
      "\t B2_3.mp3 sum rolloff 0.013902874092570109\n",
      "\t B2_3.mp3 sum rolloff -0.039444315562391724 [0]\n",
      "\t B2_3.mp3 sum rms 0.23675799907245493\n",
      "\t B2_3.mp3 sum rms 0.29620697114595845 [3]\n",
      "\t B2_3.mp3 sum specnovel -0.10328368148365387\n",
      "\t B2_3.mp3 sum specnovel -0.052761388285928336 [3]\n",
      "\t B2_3.mp3 sum tonnetz -0.00776265338015112\n",
      "\t B2_3.mp3 sum tonnetz 0.12248592125469208 [15]\n",
      "calm [-0.24371193 -0.06260204 -0.22595769 -0.38832575 -0.53928169  0.1355533 ]\n",
      "happy [ 0.08464547  0.00237286  0.09209822  0.24680607  0.23202499 -0.12430115]\n",
      "sad [-0.1104358  -0.00043029 -0.09878063 -0.28134458 -0.39161287  0.20344728]\n",
      "anxious [ 0.17438057  0.0610981   0.15975276  0.3018935   0.41118536 -0.10707886]\n",
      "nostalgic [ 0.01571395  0.09122398  0.03815243 -0.03275364 -0.21412611  0.03272567]\n"
     ]
    }
   ],
   "source": [
    "fname = path + '/emo_sums_36ss_03-18'\n",
    "emo_sums = dd.io.load(fname)\n",
    "studies = list(emo_sums.keys())\n",
    "emos = ['calm','happy','sad','anxious','nostalgic']\n",
    "dir_names.sort()\n",
    "cc_win = 8\n",
    "corrs = {e: np.zeros((len(feats_short),len(studies))) for e in emos}\n",
    "\n",
    "for i,d in enumerate(dir_names):\n",
    "    dname = d[-8:-4]\n",
    "    study = [elem for elem in studies if dname.lower() in elem][0]\n",
    "    ofile = '%s/acoustic_features/%s_feats_nowin.npy' %(path,dname)\n",
    "    #ofile = '%s/acoustic_features/%s_short_feats.npy' %(path,dname)\n",
    "    if os.path.exists(ofile):\n",
    "        short_feats = np.load(ofile)  \n",
    "        \n",
    "    if emo_sums[study][emos[0]].shape[0] == short_feats.shape[1]:\n",
    "        ignore_TRs = 0\n",
    "    else:\n",
    "        ignore_TRs = 1\n",
    "    emosums = np.zeros(emo_sums[study][emos[0]].shape)\n",
    "    for enum in range(len(emos)+1):\n",
    "        if enum != len(emos):\n",
    "            e = emos[enum]\n",
    "            emovec = emo_sums[study][e]\n",
    "            emosums += emo_sums[study][e]\n",
    "            \n",
    "        else:\n",
    "            e = 'sum'\n",
    "            emovec = emosums\n",
    "            \n",
    "        for f, feat in enumerate(feats_short): \n",
    "            if ignore_TRs > 0:\n",
    "                featvec = short_feats[f,:-ignore_TRs]\n",
    "            else:\n",
    "                featvec = short_feats[f,:]\n",
    "            \n",
    "            if feat == 'tonnetz':\n",
    "                if ignore_TRs > 0:\n",
    "                    featvec = short_feats[f:f+6,:-ignore_TRs].max(axis =0)\n",
    "                else:\n",
    "                    featvec = short_feats[f:f+6,:].max(axis =0)\n",
    "            \n",
    "            pR = pearsonr(emovec,featvec)[0]\n",
    "            lag,corr,cc = crosscor(featvec,emovec,cc_win,ignore_TRs)\n",
    "            \n",
    "            if e != 'sum':\n",
    "                corrs[e][f,i] = pR\n",
    "\n",
    "            if abs(corr) > 0.5:\n",
    "                print('\\t',d,e,feat,corr,lag)\n",
    "\n",
    "            if abs(pR) > 0.5:\n",
    "                print('\\t',d,e,feat,pR)\n",
    "for e in emos:\n",
    "    print(e,corrs[e].mean(axis =1))"
   ]
  },
  {
   "cell_type": "markdown",
   "id": "signal-hybrid",
   "metadata": {},
   "source": [
    "## Tempo and beat"
   ]
  },
  {
   "cell_type": "code",
   "execution_count": 692,
   "id": "right-first",
   "metadata": {},
   "outputs": [
    {
     "ename": "SyntaxError",
     "evalue": "invalid syntax (<ipython-input-692-7e4c0d26d00b>, line 70)",
     "output_type": "error",
     "traceback": [
      "\u001b[0;36m  File \u001b[0;32m\"<ipython-input-692-7e4c0d26d00b>\"\u001b[0;36m, line \u001b[0;32m70\u001b[0m\n\u001b[0;31m    pulse_clarity =\u001b[0m\n\u001b[0m                    ^\u001b[0m\n\u001b[0;31mSyntaxError\u001b[0m\u001b[0;31m:\u001b[0m invalid syntax\n"
     ]
    }
   ],
   "source": [
    "window = 3 #inms\n",
    "hopsize = window*.67\n",
    "\n",
    "dir_names.sort()\n",
    "beat_corrs = np.zeros((len(emos),len(studies)))\n",
    "for inum,i in enumerate(dir_names[1:]):\n",
    "    iname = i[-8:-4]\n",
    "    audio_file = filepath + i\n",
    "    print(i,iname,'loading...')\n",
    "    x, sr = lb.load(audio_file, sr=None, mono=False)\n",
    "    xmono = lb.core.to_mono(x)\n",
    "    #print(len(xmono)/sr,sr)\n",
    "    \n",
    "#     win = int(window*sr)\n",
    "#     hop = int(hopsize*sr)\n",
    "#     length = len(y)/sr\n",
    "    \n",
    "#     #get tempo\n",
    "#     tempo = lb.beat.tempo(xmono, sr=sr, start_bpm = 80, max_tempo = 160)\n",
    "#     print(i,iname,tempo)\n",
    "    \n",
    "#     # estimated beat event locations in the specified units (default is frame indices)\n",
    "#     onset_env = lb.onset.onset_strength(xmono, sr=sr)\n",
    "#     frames = range(len(onset_env))\n",
    "    \n",
    "    t, beats = lb.beat.beat_track(xmono, sr=sr,start_bpm=80,bpm = 80,units='time')\n",
    "    beats_diff = np.diff(beats)\n",
    "    beats_ds = np.zeros((round(len(xmono)/float(sr))))\n",
    "    for s in range(round(len(xmono)/float(sr))):\n",
    "        idcs = np.where((beats > s) & (beats < s+1))[0]\n",
    "        try:\n",
    "            beats_ds[s] = beats_diff[idcs].mean()\n",
    "            #print(s,idcs,beats_diff[idcs])\n",
    "        except IndexError:\n",
    "            beats_ds[s] = beats_diff[idcs-1].mean()\n",
    "            #print(s,idcs,beats_diff[idcs-1])\n",
    "    \n",
    "    #correlate with ratings\n",
    "    study = [elem for elem in studies if iname.lower() in elem][0]  \n",
    "    v1 = beats_ds[~np.isnan(beats_ds)]\n",
    "    for enum,e in enumerate(emos):\n",
    "        v2 = emo_sums[study][e][0:len(v1)]\n",
    "        pR = pearsonr(v2,v1)[0]\n",
    "        lag,corr,cc = crosscor(v1,v2,cc_win,ignore_TRs)\n",
    "        beat_corrs[enum,inum] = pR\n",
    "\n",
    "        if abs(corr) > 0.3:\n",
    "            print('\\t',d,e,corr,lag)\n",
    "\n",
    "        if abs(pR) > 0.3:\n",
    "            print('\\t',d,e,pR)\n",
    "#for e in emos:\n",
    "    #print(e,corrs[e].mean(axis =1))"
   ]
  },
  {
   "cell_type": "markdown",
   "id": "cross-rehabilitation",
   "metadata": {},
   "source": [
    "## Extracting features in predefined frames (beta - need to update)"
   ]
  },
  {
   "cell_type": "code",
   "execution_count": null,
   "id": "complimentary-business",
   "metadata": {},
   "outputs": [],
   "source": [
    "feats_long = ['tonez','chroma']\n",
    "feats_short = \n",
    "#window = 0.025 #inms\n",
    "#hopsize = window*.5\n",
    "\n",
    "window = 3 #inms\n",
    "hopsize = window*.67\n",
    "dir_names.sort()\n",
    "for i in dir_names:\n",
    "    win = int(window*sr)\n",
    "    hop = int(hopsize*sr)\n",
    "    \n",
    "    iname = i[-8:-4]\n",
    "    ofile = '%s/acoustic_features/%s_short_feats.npy' %(path,iname)\n",
    "    audio_file = filepath + i\n",
    "    y, sr = lb.load(audio_file,sr=None)\n",
    "    tonnetz_all = lb.feature.tonnetz(y=y, sr=sr)\n",
    "    tonnetz_ds = sliding_avg(tonnetz_all,y,sr)\n",
    "    \n",
    "    fig, ax = plt.subplots(figsize = (18,5),nrows=1)\n",
    "    #plt.figure(figsize=(18,5)) \n",
    "    img1 = lb.display.specshow(tonnetz_all,y_axis='tonnetz', x_axis='time', ax=ax, sr = sr)\n",
    "    ax.set(title='Tonal Centroids (Tonnetz)')\n",
    "    ax.label_outer()\n",
    "\n",
    "    \n",
    "    yframe = lb.util.frame(y, win, hop, axis=0)\n",
    "    nframe = yframe.shape[0]\n",
    "    tonnetz_frames = []\n",
    "    keyclarity = np.zeros((259*nframe))\n",
    "    tonnetz_all2 = np.zeros((6,259*nframe))\n",
    "    for f in range(yframe.shape[0]):\n",
    "        #tonnetz_frames.append(lb.feature.tonnetz(y=yframe[f], sr=sr))\n",
    "        print(f,tonnetz_frames[f].shape, tonnetz_frames[f].std(), tonnetz_frames[f].mean())\n",
    "        tonnetz_all2[:,(259*f):(259*f) + 259] = tonnetz_frames[f]\n",
    "        \n",
    "    tonnetz_ds2 = sliding_avg(tonnetz_all2,y,sr)\n",
    "\n",
    "    fig, ax = plt.subplots(figsize = (16,10),nrows=2,sharex=True)\n",
    "    img1 = lb.display.specshow(tonnetz_ds,y_axis='tonnetz', x_axis='time', ax=ax[0], sr = sr)\n",
    "    ax[0].set(title='Tonal Centroids (Tonnetz)')\n",
    "    ax[0].label_outer()\n",
    "    img2 = lb.display.specshow(tonnetz_ds2,y_axis='tonnetz', x_axis='time',ax=ax[1],sr = sr)\n",
    "    ax[1].set(title='Tonal Centroids (Tonnetz)')\n",
    "    #fig.colorbar(img1, ax=[ax[0]])\n",
    "    #fig.colorbar(img2, ax=[ax[1]])"
   ]
  },
  {
   "cell_type": "markdown",
   "id": "ethical-ceiling",
   "metadata": {},
   "source": [
    "## Extras"
   ]
  },
  {
   "cell_type": "code",
   "execution_count": null,
   "id": "close-malta",
   "metadata": {},
   "outputs": [],
   "source": [
    "# Plot tempo and beats\n",
    "\n",
    "    T = len(x)/float(sr)\n",
    "    seconds_per_beat = 60.0/tempo[0]\n",
    "    beat_times = np.arange(0, T, seconds_per_beat)\n",
    "    lb.display.waveplot(x, sr = sr)\n",
    "    \n",
    "    plt.vlines(beat_times, -1, 1, color='r')\n",
    "    \n",
    "    clicks = librosa.clicks(beat_times, sr, length=len(x))\n",
    "    ipd.Audio(x + clicks, rate=sr)\n",
    "    \n",
    "    plt.figure(figsize=(18,5)) \n",
    "    tempogram = lb.feature.tempogram(onset_envelope=onset_env, sr=sr, hop_length=hop, win_length=win)\n",
    "    \n",
    "    lb.display.specshow(tempogram, sr=sr, hop_length=hop, x_axis='time', y_axis='tempo')\n",
    "    pulse_clarity = \n",
    "    \n",
    "    \n",
    "    plt.figure(figsize=(14, 5))\n",
    "    lb.display.waveplot(xmono,sr =sr,alpha=0.6)\n",
    "    plt.vlines(beats, -1, 1, color='r')\n",
    "    plt.ylim(-1, 1)"
   ]
  }
 ],
 "metadata": {
  "kernelspec": {
   "display_name": "Python 3",
   "language": "python",
   "name": "python3"
  },
  "language_info": {
   "codemirror_mode": {
    "name": "ipython",
    "version": 3
   },
   "file_extension": ".py",
   "mimetype": "text/x-python",
   "name": "python",
   "nbconvert_exporter": "python",
   "pygments_lexer": "ipython3",
   "version": "3.6.7"
  }
 },
 "nbformat": 4,
 "nbformat_minor": 5
}
